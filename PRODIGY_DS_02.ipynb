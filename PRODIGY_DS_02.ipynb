{
 "cells": [
  {
   "cell_type": "code",
   "execution_count": 4,
   "id": "72127d5d-6df8-4cc4-897a-82ae655456e2",
   "metadata": {},
   "outputs": [
    {
     "name": "stdout",
     "output_type": "stream",
     "text": [
      "Column names in the dataset:\n",
      "Index(['PassengerId', 'Survived'], dtype='object')\n",
      "\n",
      "First few rows of the dataset:\n",
      "   PassengerId  Survived\n",
      "0          892         0\n",
      "1          893         1\n",
      "2          894         0\n",
      "3          895         0\n",
      "4          896         1\n"
     ]
    }
   ],
   "source": [
    "import pandas as pd\n",
    "\n",
    "# Load the Titanic dataset\n",
    "titanic_df = pd.read_csv(r\"C:\\Users\\kamba\\Downloads\\gender_submission.csv\")\n",
    "\n",
    "# Print column names to check for 'Age'\n",
    "print(\"Column names in the dataset:\")\n",
    "print(titanic_df.columns)\n",
    "\n",
    "# Inspect the first few rows to see available columns\n",
    "print(\"\\nFirst few rows of the dataset:\")\n",
    "print(titanic_df.head())\n"
   ]
  },
  {
   "cell_type": "code",
   "execution_count": 5,
   "id": "2bd1e9e4-7de9-4550-8058-27b3d0c9a93e",
   "metadata": {},
   "outputs": [
    {
     "name": "stdout",
     "output_type": "stream",
     "text": [
      "First few rows of the dataset:\n",
      "   PassengerId  Survived\n",
      "0          892         0\n",
      "1          893         1\n",
      "2          894         0\n",
      "3          895         0\n",
      "4          896         1\n",
      "\n",
      "Column names in the dataset:\n",
      "Index(['PassengerId', 'Survived'], dtype='object')\n",
      "\n",
      "Summary statistics of the dataset:\n",
      "       PassengerId    Survived\n",
      "count   418.000000  418.000000\n",
      "mean   1100.500000    0.363636\n",
      "std     120.810458    0.481622\n",
      "min     892.000000    0.000000\n",
      "25%     996.250000    0.000000\n",
      "50%    1100.500000    0.000000\n",
      "75%    1204.750000    1.000000\n",
      "max    1309.000000    1.000000\n",
      "\n",
      "Missing values in each column:\n",
      "PassengerId    0\n",
      "Survived       0\n",
      "dtype: int64\n"
     ]
    }
   ],
   "source": [
    "# Display the first few rows of the dataset\n",
    "print(\"First few rows of the dataset:\")\n",
    "print(df.head())\n",
    "\n",
    "# Display column names\n",
    "print(\"\\nColumn names in the dataset:\")\n",
    "print(df.columns)\n",
    "\n",
    "# Summary statistics\n",
    "print(\"\\nSummary statistics of the dataset:\")\n",
    "print(df.describe(include='all'))\n",
    "\n",
    "# Check for missing values\n",
    "print(\"\\nMissing values in each column:\")\n",
    "print(df.isnull().sum())\n"
   ]
  },
  {
   "cell_type": "code",
   "execution_count": 8,
   "id": "6b5bf0f9-eda6-4b84-a7c0-fada2da3798e",
   "metadata": {},
   "outputs": [
    {
     "name": "stdout",
     "output_type": "stream",
     "text": [
      "\n",
      "No missing values detected.\n"
     ]
    }
   ],
   "source": [
    "# Check if there are any missing values\n",
    "missing_values = df.isnull().sum()\n",
    "\n",
    "if missing_values.any():\n",
    "    print(\"\\nMissing values detected. Handling missing values...\")\n",
    "    df = df.dropna()  # Drop rows with missing values, if any\n",
    "else:\n",
    "    print(\"\\nNo missing values detected.\")\n"
   ]
  },
  {
   "cell_type": "code",
   "execution_count": 9,
   "id": "cc3f5471-a221-4fa9-988d-f5f94870ee36",
   "metadata": {},
   "outputs": [
    {
     "data": {
      "image/png": "[encoded data removed]",
      "text/plain": [
       "<Figure size 800x600 with 1 Axes>"
      ]
     },
     "metadata": {},
     "output_type": "display_data"
    }
   ],
   "source": [
    "import matplotlib.pyplot as plt\n",
    "import seaborn as sns\n",
    "\n",
    "# Count plot of Survived\n",
    "plt.figure(figsize=(8, 6))\n",
    "sns.countplot(x='Survived', data=df)\n",
    "plt.title('Count of Survived')\n",
    "plt.xlabel('Survived (0 = No, 1 = Yes)')\n",
    "plt.ylabel('Count')\n",
    "plt.show()\n"
   ]
  },
  {
   "cell_type": "code",
   "execution_count": 10,
   "id": "81f47095-3a5e-4470-b287-7dbec6cabb7c",
   "metadata": {},
   "outputs": [
    {
     "name": "stdout",
     "output_type": "stream",
     "text": [
      "Survival Rate: 36.36%\n"
     ]
    }
   ],
   "source": [
    "# Calculate survival rate\n",
    "survival_rate = df['Survived'].mean()\n",
    "print(f\"Survival Rate: {survival_rate:.2%}\")\n"
   ]
  },
  {
   "cell_type": "code",
   "execution_count": null,
   "id": "df65b819-55d2-41f8-913e-268d96e33465",
   "metadata": {},
   "outputs": [],
   "source": []
  }
 ],
 "metadata": {
  "kernelspec": {
   "display_name": "Python 3 (ipykernel)",
   "language": "python",
   "name": "python3"
  },
  "language_info": {
   "codemirror_mode": {
    "name": "ipython",
    "version": 3
   },
   "file_extension": ".py",
   "mimetype": "text/x-python",
   "name": "python",
   "nbconvert_exporter": "python",
   "pygments_lexer": "ipython3",
   "version": "3.12.4"
  }
 },
 "nbformat": 4,
 "nbformat_minor": 5
}
